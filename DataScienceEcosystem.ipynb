{
 "cells": [
  {
   "cell_type": "markdown",
   "id": "cf544edb-c42a-4a91-85c4-33061d96a41f",
   "metadata": {},
   "source": [
    "# **Data Science Tools and Ecosystem**"
   ]
  },
  {
   "cell_type": "markdown",
   "id": "ce497620-6c68-483b-8349-f7071851c1c8",
   "metadata": {},
   "source": [
    "## Author\n",
    "Hunter Batchelder"
   ]
  },
  {
   "cell_type": "markdown",
   "id": "2d3f45e1-bb2d-4457-983f-4e8f068cf039",
   "metadata": {
    "tags": []
   },
   "source": [
    "Objectives:\n",
    "\n",
    "    - List popular languages for Data Science\n",
    "    - Commonly used libraries in Data Science\n",
    "    - Evaluating arithmetic expressions in Python"
   ]
  },
  {
   "cell_type": "markdown",
   "id": "17d83b2c-070c-4ea9-a22f-44198db2d938",
   "metadata": {},
   "source": [
    "In this notebook, Data Science Tools and Ecosystem are summarized.\n",
    "Some of the popular languages that Data Scientists use are:\n",
    "1. R\n",
    "2. SQL\n",
    "3. Python\n",
    "\n",
    "Some of the commonly used libraries used by Data Scientists include:\n",
    "- NumPy\n",
    "- Panadas\n",
    "- Matplotlib"
   ]
  },
  {
   "cell_type": "markdown",
   "id": "725f00fa-2ddf-4a0e-977e-909d5761213d",
   "metadata": {},
   "source": [
    "| Data Science Tools | \n",
    "| :-: |\n",
    "| Apache Spark |\n",
    "| Apache Hadoop |\n",
    "| TensorFlow |"
   ]
  },
  {
   "cell_type": "markdown",
   "id": "cbde8d81-2f84-494a-b695-23fd6af0b949",
   "metadata": {},
   "source": [
    "### Below are a few examples of evaluating arithmetic expressions in Python.\n",
    "\n"
   ]
  },
  {
   "cell_type": "markdown",
   "id": "f5b023b0-f0c8-40ad-b153-cd4bc16cb528",
   "metadata": {},
   "source": [
    "This a simple arithmetic expression to mutiply then add integers"
   ]
  },
  {
   "cell_type": "code",
   "execution_count": 4,
   "id": "9e9be363-de58-47d4-9c12-1f806ef94ab7",
   "metadata": {
    "tags": []
   },
   "outputs": [
    {
     "data": {
      "text/plain": [
       "17"
      ]
     },
     "execution_count": 4,
     "metadata": {},
     "output_type": "execute_result"
    }
   ],
   "source": [
    "(3*4)+5"
   ]
  },
  {
   "cell_type": "markdown",
   "id": "065022f1-ef30-47a0-b590-c768e7056297",
   "metadata": {},
   "source": [
    "This will convert 200 minutes to hours by diving by 60"
   ]
  },
  {
   "cell_type": "code",
   "execution_count": 2,
   "id": "1628ff94-5bbe-4f2d-ba93-5f6489ca2b03",
   "metadata": {
    "tags": []
   },
   "outputs": [
    {
     "data": {
      "text/plain": [
       "3.3333333333333335"
      ]
     },
     "execution_count": 2,
     "metadata": {},
     "output_type": "execute_result"
    }
   ],
   "source": [
    "200/60"
   ]
  },
  {
   "cell_type": "code",
   "execution_count": null,
   "id": "be8c4789-d81f-49a5-9ff4-5644621ed5f7",
   "metadata": {},
   "outputs": [],
   "source": []
  }
 ],
 "metadata": {
  "kernelspec": {
   "display_name": "Python",
   "language": "python",
   "name": "conda-env-python-py"
  },
  "language_info": {
   "codemirror_mode": {
    "name": "ipython",
    "version": 3
   },
   "file_extension": ".py",
   "mimetype": "text/x-python",
   "name": "python",
   "nbconvert_exporter": "python",
   "pygments_lexer": "ipython3",
   "version": "3.7.12"
  }
 },
 "nbformat": 4,
 "nbformat_minor": 5
}
